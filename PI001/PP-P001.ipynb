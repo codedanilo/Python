{
 "cells": [
  {
   "cell_type": "markdown",
   "metadata": {},
   "source": [
    "#### Exercício 1: Crie um repositório para as atividades deste módulo\n",
    "● A sua equipe deve criar um repositório no GitHub que será utilizado para todas as atividades deste módulo. O repositório deve conter:\n",
    "○ Um README descrevendo as informações dos membros da equipe (nome e e-mail) assim como a descrição da estruturação do repositório ( que tem em cada pasta). Este README deve ser feito\n",
    "utilizando Markdown e ser atualizado a cada semana.\n",
    "○ Uma pasta para cada Instrução prática. As pastas serão criadas na medida que as Instruções Práticas sejam passadas.\n",
    "○ O professor deve ser incluído como colaborador no repositório (usuário GitHub - etvorellana) \n",
    "○ A pasta desta Instrução Prática deve conter um Jupyter Notebook com as respostas de cada um dos exercícios.\n",
    "○ Cada membro da equipe deve ter uma pasta no repositório. Se recomenda também a utilização de um branch para cada desenvolvedor, independentemente de serem definidos branch para atividades específicas.\n",
    "● Publicar no moodle o endereço do repositório e o branch específico em que\n",
    "está desenvolvendo suas atividades.   \n",
    "Prática da questão 1: https://github.com/codedanilo/Python/tree/main/PP-P001\n"
   ]
  },
  {
   "cell_type": "markdown",
   "metadata": {},
   "source": [
    "#### Exercício 2\n",
    "#### ----------------------------------------------------------------------------------------\n",
    "# Operadores Aritméticos em Python:\n",
    "#### ----------------------------------------------------------------------------------------\n",
    "\n",
    "#### Adição (+): \n",
    "Em Python, o operador '+' é usado para adição de números, mas também para concatenar strings e sequências.\n",
    "#### Subtração (-):\n",
    "Realiza a subtração entre dois números.\n",
    "#### Multiplicação (*):\n",
    "Realiza a multiplicação de números ou a repetição de strings ou sequências.\n",
    "#### Divisão (/):\n",
    "A divisão em Python (/) sempre retorna um número de ponto flutuante, mesmo que a divisão seja entre inteiros.\n",
    "#### Divisão Inteira (//):\n",
    "Retorna a parte inteira do resultado da divisão, descartando a parte fracionária.\n",
    "#### Módulo (%):\n",
    "Retorna o resto da divisão entre dois números.\n",
    "### Exponenciação ( ou pow())**:\n",
    "Realiza a exponenciação de um número pelo outro.\n",
    "#### -----------------------------------------------------------------------------------------\n",
    "# Operadores Aritméticos Compostos em Python:\n",
    "#### -----------------------------------------------------------------------------------------\n",
    "#### Adição Incrementada (+=):\n",
    "x += y é o mesmo que x = x + y.\n",
    "#### Subtração Incrementada (-=):\n",
    "x -= y é o mesmo que x = x - y.\n",
    "#### Multiplicação Incrementada (*=):\n",
    "x *= y é o mesmo que x = x * y.\n",
    "#### Divisão Incrementada (/=):\n",
    "x /= y é o mesmo que x = x / y.\n",
    "#### Divisão Inteira Incrementada (//=):\n",
    "x //= y é o mesmo que x = x // y.\n",
    "#### Módulo Incrementado (%=):\n",
    "x %= y é o mesmo que x = x % y.\n",
    "#### -------------------------------------------------------------------------------------------\n",
    "# Python oferece alguns diferenciais em relação a C/C++:\n",
    "#### -------------------------------------------------------------------------------------------\n",
    "## Tipagem dinâmica:\n",
    "Em Python, não é necessário especificar o tipo de variável ao realizar operações aritméticas. Isso difere do C/C++, onde a tipagem é estática e as variáveis têm tipos fixos.\n",
    "#### Divisão como ponto flutuante padrão:\n",
    "Em Python 3, o operador de divisão (/) sempre retorna um resultado de ponto flutuante, enquanto em C/C++, o tipo do resultado depende dos tipos dos operandos.\n",
    "#### Conversão automática de tipos:\n",
    "Em Python, há mais flexibilidade na operação entre diferentes tipos de variáveis, enquanto em C/C++ pode ser necessário fazer conversões explícitas.\n",
    "#### Operador de exponenciação **\n",
    "Python possui um operador específico para exponenciação, enquanto em C/C++, normalmente é usado pow() ou funções semelhantes para calcular potências\n",
    "No geral, embora os operadores aritméticos em Python sigam princípios. semelhantes aos de C/C++, as diferenças fundamentais em tipagem, tratamento de tipos e algumas operações específicas tornam Python mais flexível em certos aspectos.\n",
    "\n",
    "\n",
    "\n",
    "\n",
    "\n",
    "\n"
   ]
  },
  {
   "cell_type": "markdown",
   "metadata": {},
   "source": [
    "### Exercício 3: Manipulação de variáveis de tipo string e explorando o uso de print.\n",
    "Os caracteres numéricos aparecem na tabela ASCII, e em outras, numa sequência que começa pelo caractere ‘0’ até o caractere ‘9’. As strings em Python são formadas por conjuntos de caracteres que podem ser tratadas também como valores numéricos. Com base nestas afirmações desenvolva um programa em Python que:\n",
    "○ Imprima na tela, utilizando print, cada um dos caracteres numéricos e seu correspondente código numérico. Pesquise como modificar o comportamento do print para imprimir como caractere e como\n",
    "número.\n",
    "Exemplo:‘0’ - 48\n",
    "‘1’ - 49\n",
    "…\n",
    "‘9’ - 57"
   ]
  },
  {
   "cell_type": "code",
   "execution_count": 1,
   "metadata": {},
   "outputs": [
    {
     "name": "stdout",
     "output_type": "stream",
     "text": [
      "'0' - 48\n",
      "'1' - 49\n",
      "'2' - 50\n",
      "'3' - 51\n",
      "'4' - 52\n",
      "'5' - 53\n",
      "'6' - 54\n",
      "'7' - 55\n",
      "'8' - 56\n",
      "'9' - 57\n"
     ]
    }
   ],
   "source": [
    "for i in range(10):\n",
    "    caractere = chr(ord('0') + i)\n",
    "    codigo_ascii = ord(caractere)\n",
    "    print(f\"'{caractere}' - {codigo_ascii}\")\n"
   ]
  },
  {
   "cell_type": "markdown",
   "metadata": {},
   "source": [
    "* Modifique o  exercício anterior para que a saída imprima também o código numérico em octal e em hexadecimal."
   ]
  },
  {
   "cell_type": "code",
   "execution_count": 3,
   "metadata": {},
   "outputs": [
    {
     "name": "stdout",
     "output_type": "stream",
     "text": [
      "'0' - Decimal: 48, Octal: 0o60, Hexadecimal: 0x30\n",
      "'1' - Decimal: 49, Octal: 0o61, Hexadecimal: 0x31\n",
      "'2' - Decimal: 50, Octal: 0o62, Hexadecimal: 0x32\n",
      "'3' - Decimal: 51, Octal: 0o63, Hexadecimal: 0x33\n",
      "'4' - Decimal: 52, Octal: 0o64, Hexadecimal: 0x34\n",
      "'5' - Decimal: 53, Octal: 0o65, Hexadecimal: 0x35\n",
      "'6' - Decimal: 54, Octal: 0o66, Hexadecimal: 0x36\n",
      "'7' - Decimal: 55, Octal: 0o67, Hexadecimal: 0x37\n",
      "'8' - Decimal: 56, Octal: 0o70, Hexadecimal: 0x38\n",
      "'9' - Decimal: 57, Octal: 0o71, Hexadecimal: 0x39\n"
     ]
    }
   ],
   "source": [
    "for i in range(10):\n",
    "    caractere = chr(ord('0') + i)\n",
    "    codigo_ascii = ord(caractere)\n",
    "    codigo_octal = oct(codigo_ascii)\n",
    "    codigo_hexadecimal = hex(codigo_ascii)\n",
    "    print(f\"'{caractere}' - Decimal: {codigo_ascii}, Octal: {codigo_octal}, Hexadecimal: {codigo_hexadecimal}\")\n"
   ]
  },
  {
   "cell_type": "markdown",
   "metadata": {},
   "source": [
    "* Acrescente ao código do exercício anterior a possibilidade de ler um caractere qualquer e imprima no mesmo formato do inciso anterior.\n",
    "Pesquise como ler um valor da entrada padrão."
   ]
  },
  {
   "cell_type": "code",
   "execution_count": 4,
   "metadata": {},
   "outputs": [
    {
     "name": "stdout",
     "output_type": "stream",
     "text": [
      "'j' - Decimal: 106, Octal: 0o152, Hexadecimal: 0x6a\n"
     ]
    }
   ],
   "source": [
    "caractere = input(\"Digite um caractere: \")\n",
    "\n",
    "codigo_ascii = ord(caractere)\n",
    "\n",
    "codigo_octal = oct(codigo_ascii)\n",
    "codigo_hexadecimal = hex(codigo_ascii)\n",
    "\n",
    "print(f\"'{caractere}' - Decimal: {codigo_ascii}, Octal: {codigo_octal}, Hexadecimal: {codigo_hexadecimal}\")\n"
   ]
  },
  {
   "cell_type": "markdown",
   "metadata": {},
   "source": [
    "* Pesquise como trabalha Python os caracteres especiais, ‘ç’ e ‘ã’ por exemplo. Acrescente no código do exercício anterior um exemplo que demonstra como usar este recurso."
   ]
  },
  {
   "cell_type": "code",
   "execution_count": 5,
   "metadata": {},
   "outputs": [
    {
     "name": "stdout",
     "output_type": "stream",
     "text": [
      "'ç' - Unicode: 231, Octal: 0o347, Hexadecimal: 0xe7\n"
     ]
    }
   ],
   "source": [
    "caractere = input(\"Digite um caractere: \")\n",
    "\n",
    "codigo_unicode = ord(caractere)\n",
    "\n",
    "codigo_octal = oct(codigo_unicode)\n",
    "codigo_hexadecimal = hex(codigo_unicode)\n",
    "\n",
    "print(f\"'{caractere}' - Unicode: {codigo_unicode}, Octal: {codigo_octal}, Hexadecimal: {codigo_hexadecimal}\")\n"
   ]
  },
  {
   "cell_type": "markdown",
   "metadata": {},
   "source": [
    "### Exercício  4: Manipulação de variáveis de tipo string e explorando os métodos da classe.\n",
    "As variáveis de tipo string possuem uma série de funcionalidades já implementadas e seus caracteres e substrings podem ser acessados usando indexação e slicing. Crie um exemplo onde:\n",
    "○ Declare uma variável nome atribuindo a ela seu nome completo;\n"
   ]
  },
  {
   "cell_type": "code",
   "execution_count": 10,
   "metadata": {},
   "outputs": [
    {
     "name": "stdout",
     "output_type": "stream",
     "text": [
      "Nome completo: Matheus Costa Beckerath\n",
      "Primeira letra: M\n",
      "Última letra: h\n",
      "Primeiro nome: Matheus\n",
      "Sobrenome:  Costa Beckerath\n",
      "Parte do meio: Costa\n"
     ]
    }
   ],
   "source": [
    "nome = \"Matheus Costa Beckerath\"\n",
    "\n",
    "primeira_letra = nome[0]\n",
    "ultima_letra = nome[-1]\n",
    "\n",
    "primeiro_nome = nome[:7]  # \"Matheus\"\n",
    "sobrenome = nome[7:]      # \"Beckerath\"\n",
    "parte_do_meio = nome[8:13]  # \"Costa\"\n",
    "\n",
    "# Imprima os resultados\n",
    "print(\"Nome completo:\", nome)\n",
    "print(\"Primeira letra:\", primeira_letra)\n",
    "print(\"Última letra:\", ultima_letra)\n",
    "print(\"Primeiro nome:\", primeiro_nome)\n",
    "print(\"Sobrenome:\", sobrenome)\n",
    "print(\"Parte do meio:\", parte_do_meio)\n"
   ]
  },
  {
   "cell_type": "markdown",
   "metadata": {},
   "source": [
    "* Pesquise por funcionalidades já implementadas nas strings e separe em duas variáveis novas seu nome do seu sobrenome;"
   ]
  },
  {
   "cell_type": "code",
   "execution_count": 11,
   "metadata": {},
   "outputs": [
    {
     "name": "stdout",
     "output_type": "stream",
     "text": [
      "Nome completo: Matheus Costa Beckerath\n",
      "Primeiro nome: Matheus\n",
      "Sobrenome: Costa Beckerath\n"
     ]
    }
   ],
   "source": [
    "nome_completo = \"Matheus Costa Beckerath\"\n",
    "\n",
    "partes_do_nome = nome_completo.split()\n",
    "\n",
    "if len(partes_do_nome) >= 2:\n",
    "    primeiro_nome = partes_do_nome[0]\n",
    "    sobrenome = ' '.join(partes_do_nome[1:])\n",
    "else:\n",
    "    primeiro_nome = nome_completo\n",
    "    sobrenome = \"\"\n",
    "\n",
    "print(\"Nome completo:\", nome_completo)\n",
    "print(\"Primeiro nome:\", primeiro_nome)\n",
    "print(\"Sobrenome:\", sobrenome)\n"
   ]
  },
  {
   "cell_type": "markdown",
   "metadata": {},
   "source": [
    "* Verifique qual das duas novas variáveis antecede a outra na ordem alfabética;"
   ]
  },
  {
   "cell_type": "code",
   "execution_count": 12,
   "metadata": {},
   "outputs": [
    {
     "name": "stdout",
     "output_type": "stream",
     "text": [
      "Costa Beckerath antecede Matheus na ordem alfabética.\n"
     ]
    }
   ],
   "source": [
    "primeiro_nome_minusculo = primeiro_nome.lower()\n",
    "sobrenome_minusculo = sobrenome.lower()\n",
    "\n",
    "menor_na_ordem_alfabetica = min(primeiro_nome_minusculo, sobrenome_minusculo)\n",
    "\n",
    "if menor_na_ordem_alfabetica == primeiro_nome_minusculo:\n",
    "    print(f\"{primeiro_nome} antecede {sobrenome} na ordem alfabética.\")\n",
    "else:\n",
    "    print(f\"{sobrenome} antecede {primeiro_nome} na ordem alfabética.\")\n"
   ]
  },
  {
   "cell_type": "markdown",
   "metadata": {},
   "source": [
    "* Verifique a quantidade de caracteres de cada uma das novas variáveis;"
   ]
  },
  {
   "cell_type": "code",
   "execution_count": 14,
   "metadata": {},
   "outputs": [
    {
     "name": "stdout",
     "output_type": "stream",
     "text": [
      "Quantidade de caracteres em Matheus: 7\n",
      "Quantidade de caracteres em Beckerath: 9\n"
     ]
    }
   ],
   "source": [
    "primeiro_nome = \"Matheus\"\n",
    "sobrenome = \"Beckerath\"\n",
    "\n",
    "quantidade_caracteres_primeiro_nome = len(primeiro_nome)\n",
    "quantidade_caracteres_sobrenome = len(sobrenome)\n",
    "\n",
    "print(f\"Quantidade de caracteres em {primeiro_nome}: {quantidade_caracteres_primeiro_nome}\")\n",
    "print(f\"Quantidade de caracteres em {sobrenome}: {quantidade_caracteres_sobrenome}\")\n"
   ]
  },
  {
   "cell_type": "markdown",
   "metadata": {},
   "source": [
    "* Verifique se seu nome é uma palíndromo;"
   ]
  },
  {
   "cell_type": "code",
   "execution_count": 15,
   "metadata": {},
   "outputs": [
    {
     "name": "stdout",
     "output_type": "stream",
     "text": [
      "Matheus não é um palíndromo.\n"
     ]
    }
   ],
   "source": [
    "meu_nome = \"Matheus\"\n",
    "\n",
    "eh_palindromo = meu_nome.lower() == meu_nome.lower()[::-1]\n",
    "\n",
    "if eh_palindromo:\n",
    "    print(f\"{meu_nome} é um palíndromo.\")\n",
    "else:\n",
    "    print(f\"{meu_nome} não é um palíndromo.\")\n"
   ]
  },
  {
   "cell_type": "markdown",
   "metadata": {},
   "source": [
    "### Exercício 5 Manipulação de variáveis de ponto flutuante, explorando as características e os limites.\n",
    "Durante a aula foi apresentado o tipo de dado que permite representar um\n",
    "subconjunto dos números de ponto flutuante. Sobre estes tipos de dados:\n",
    " * Demonstre como funcionam os operadores aritméticos e aritméticos compostos em Python;"
   ]
  },
  {
   "cell_type": "code",
   "execution_count": 16,
   "metadata": {},
   "outputs": [
    {
     "name": "stdout",
     "output_type": "stream",
     "text": [
      "Operadores aritméticos:\n",
      "Soma: 7.5\n",
      "Subtração: 2.5\n",
      "Multiplicação: 12.5\n",
      "Divisão: 2.0\n",
      "Potenciação: 55.90169943749474\n",
      "Resto da divisão: 0.0\n",
      "\n",
      "Operadores aritméticos compostos:\n",
      "Novo valor de numero1: 3.5\n",
      "Novo valor de numero2: 7.5\n"
     ]
    }
   ],
   "source": [
    "numero1 = 5.0\n",
    "numero2 = 2.5\n",
    "\n",
    "soma = numero1 + numero2\n",
    "subtracao = numero1 - numero2\n",
    "multiplicacao = numero1 * numero2\n",
    "divisao = numero1 / numero2\n",
    "potenciacao = numero1 ** numero2\n",
    "resto_divisao = numero1 % numero2\n",
    "\n",
    "numero1 += 2  # Equivalente a: numero1 = numero1 + 2\n",
    "numero2 *= 3  # Equivalente a: numero2 = numero2 * 3\n",
    "numero1 /= 2  # Equivalente a: numero1 = numero1 / 2\n",
    "\n",
    "print(\"Operadores aritméticos:\")\n",
    "print(\"Soma:\", soma)\n",
    "print(\"Subtração:\", subtracao)\n",
    "print(\"Multiplicação:\", multiplicacao)\n",
    "print(\"Divisão:\", divisao)\n",
    "print(\"Potenciação:\", potenciacao)\n",
    "print(\"Resto da divisão:\", resto_divisao)\n",
    "\n",
    "print(\"\\nOperadores aritméticos compostos:\")\n",
    "print(\"Novo valor de numero1:\", numero1)\n",
    "print(\"Novo valor de numero2:\", numero2)\n"
   ]
  },
  {
   "cell_type": "markdown",
   "metadata": {},
   "source": [
    "* Utilizando o operador de exponenciação mostre qual a maior e a\n",
    "menor potência de 2 que pode ser representada com variáveis de\n",
    "ponto flutuante"
   ]
  },
  {
   "cell_type": "code",
   "execution_count": 18,
   "metadata": {},
   "outputs": [
    {
     "name": "stdout",
     "output_type": "stream",
     "text": [
      "Maior potência de 2 representável: 8.98846567431158e+307\n",
      "Menor potência de 2 representável: 2.2250738585072014e-308\n"
     ]
    }
   ],
   "source": [
    "maior_potencia = 2.0 ** 1023\n",
    "menor_potencia = 2.0 ** -1022\n",
    "\n",
    "print(f\"Maior potência de 2 representável: {maior_potencia}\")\n",
    "print(f\"Menor potência de 2 representável: {menor_potencia}\")"
   ]
  },
  {
   "cell_type": "markdown",
   "metadata": {},
   "source": [
    "* As variáveis numéricas são imutáveis. Demonstre com exemplos as\n",
    "implicações desta afirmação;"
   ]
  },
  {
   "cell_type": "code",
   "execution_count": 19,
   "metadata": {},
   "outputs": [
    {
     "name": "stdout",
     "output_type": "stream",
     "text": [
      "Antes da modificação: 10.0\n",
      "Depois da modificação: 5.0\n"
     ]
    }
   ],
   "source": [
    "num = 10.0\n",
    "print(\"Antes da modificação:\", num)\n",
    "\n",
    "# num[0] = 5\n",
    "\n",
    "num = 5.0\n",
    "print(\"Depois da modificação:\", num)"
   ]
  },
  {
   "cell_type": "markdown",
   "metadata": {},
   "source": [
    "* Verifique quais métodos estão disponíveis para as variáveis de ponto flutuante;"
   ]
  },
  {
   "cell_type": "code",
   "execution_count": 20,
   "metadata": {},
   "outputs": [
    {
     "name": "stdout",
     "output_type": "stream",
     "text": [
      "Valor absoluto: 3.14\n",
      "Arredonda para baixo: 3\n",
      "Arredonda para cima: 4\n",
      "Parte inteira: 3\n",
      "Arredonda para o número mais próximo: 3\n"
     ]
    }
   ],
   "source": [
    "num = 3.14\n",
    "\n",
    "# Exemplo de alguns métodos disponíveis\n",
    "print(\"Valor absoluto:\", abs(num))\n",
    "print(\"Arredonda para baixo:\", num.__floor__())\n",
    "print(\"Arredonda para cima:\", num.__ceil__())\n",
    "print(\"Parte inteira:\", num.__int__())\n",
    "print(\"Arredonda para o número mais próximo:\", round(num))"
   ]
  },
  {
   "cell_type": "markdown",
   "metadata": {},
   "source": [
    "### Exercício 6: Manipulando listas\n",
    "Dado o seguinte código, e antes de implementar, veja o que será impresso em\n",
    "cada caso:"
   ]
  },
  {
   "cell_type": "code",
   "execution_count": 21,
   "metadata": {},
   "outputs": [
    {
     "name": "stdout",
     "output_type": "stream",
     "text": [
      "[9, 8, 7, 6, 5, 4, 3, 2, 1]\n",
      "[9]\n",
      "[1, 2, 3, 4, 5, 6, 7, 8]\n",
      "[9, 7, 5, 3, 1]\n",
      "[8, 9]\n",
      "[1, 2, 3, 4, 5, 6, 7]\n"
     ]
    }
   ],
   "source": [
    "L = [1,2,3,4,5,6,7,8,9]\n",
    "print(L[::-1])\n",
    "print(L[-1::])\n",
    "print(L[:-1:])\n",
    "print(L[::-2])\n",
    "print(L[-2::])\n",
    "print(L[:-2:])"
   ]
  },
  {
   "cell_type": "markdown",
   "metadata": {},
   "source": [
    "* Uma forma simplificada de determinar o seu animal no zodiaco chines é\n",
    "apresentada na seguinte tabela:\n",
    "Descubra qual o signo de um usuário de acordo com seu ano de nascimento.\n"
   ]
  },
  {
   "cell_type": "code",
   "execution_count": 22,
   "metadata": {},
   "outputs": [
    {
     "name": "stdout",
     "output_type": "stream",
     "text": [
      "Seu signo do zodíaco chinês é: Boi\n"
     ]
    }
   ],
   "source": [
    "ano_nascimento = int(input(\"Digite o ano do seu nascimento: \"))\n",
    "\n",
    "ano_base = 1924 \n",
    "ciclo_zodiaco_chines = (ano_nascimento - ano_base) % 12\n",
    "\n",
    "animais_zodiaco = [\"Rato\", \"Boi\", \"Tigre\", \"Coelho\", \"Dragão\", \"Serpente\", \"Cavalo\", \"Cabra\", \"Macaco\", \"Galo\", \"Cão\", \"Porco\"]\n",
    "\n",
    "signo_zodiaco = animais_zodiaco[ciclo_zodiaco_chines]\n",
    "\n",
    "print(f\"Seu signo do zodíaco chinês é: {signo_zodiaco}\")\n"
   ]
  }
 ],
 "metadata": {
  "kernelspec": {
   "display_name": "Python 3",
   "language": "python",
   "name": "python3"
  },
  "language_info": {
   "codemirror_mode": {
    "name": "ipython",
    "version": 3
   },
   "file_extension": ".py",
   "mimetype": "text/x-python",
   "name": "python",
   "nbconvert_exporter": "python",
   "pygments_lexer": "ipython3",
   "version": "3.11.4"
  }
 },
 "nbformat": 4,
 "nbformat_minor": 2
}
