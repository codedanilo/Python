{
 "cells": [
  {
   "cell_type": "markdown",
   "metadata": {},
   "source": [
    "#### Exercício 1: Crie um repositório para as atividades deste módulo\n",
    "● A sua equipe deve criar um repositório no GitHub que será utilizado para todas as atividades deste módulo. O repositório deve conter:\n",
    "○ Um README descrevendo as informações dos membros da equipe (nome e e-mail) assim como a descrição da estruturação do repositório ( que tem em cada pasta). Este README deve ser feito\n",
    "utilizando Markdown e ser atualizado a cada semana.\n",
    "○ Uma pasta para cada Instrução prática. As pastas serão criadas na medida que as Instruções Práticas sejam passadas.\n",
    "○ O professor deve ser incluído como colaborador no repositório (usuário GitHub - etvorellana) \n",
    "○ A pasta desta Instrução Prática deve conter um Jupyter Notebook com as respostas de cada um dos exercícios.\n",
    "○ Cada membro da equipe deve ter uma pasta no repositório. Se recomenda também a utilização de um branch para cada desenvolvedor, independentemente de serem definidos branch para atividades específicas.\n",
    "● Publicar no moodle o endereço do repositório e o branch específico em que\n",
    "está desenvolvendo suas atividades.   \n",
    "Prática da questão 1: https://github.com/codedanilo/Python/tree/main/PP-P001\n"
   ]
  },
  {
   "cell_type": "markdown",
   "metadata": {},
   "source": [
    "#### Exercício 2\n",
    "#### ----------------------------------------------------------------------------------------\n",
    "# Operadores Aritméticos em Python:\n",
    "#### ----------------------------------------------------------------------------------------\n",
    "\n",
    "#### Adição (+): \n",
    "Em Python, o operador '+' é usado para adição de números, mas também para concatenar strings e sequências.\n",
    "#### Subtração (-):\n",
    "Realiza a subtração entre dois números.\n",
    "#### Multiplicação (*):\n",
    "Realiza a multiplicação de números ou a repetição de strings ou sequências.\n",
    "#### Divisão (/):\n",
    "A divisão em Python (/) sempre retorna um número de ponto flutuante, mesmo que a divisão seja entre inteiros.\n",
    "#### Divisão Inteira (//):\n",
    "Retorna a parte inteira do resultado da divisão, descartando a parte fracionária.\n",
    "#### Módulo (%):\n",
    "Retorna o resto da divisão entre dois números.\n",
    "### Exponenciação ( ou pow())**:\n",
    "Realiza a exponenciação de um número pelo outro.\n",
    "#### -----------------------------------------------------------------------------------------\n",
    "# Operadores Aritméticos Compostos em Python:\n",
    "#### -----------------------------------------------------------------------------------------\n",
    "#### Adição Incrementada (+=):\n",
    "x += y é o mesmo que x = x + y.\n",
    "#### Subtração Incrementada (-=):\n",
    "x -= y é o mesmo que x = x - y.\n",
    "#### Multiplicação Incrementada (*=):\n",
    "x *= y é o mesmo que x = x * y.\n",
    "#### Divisão Incrementada (/=):\n",
    "x /= y é o mesmo que x = x / y.\n",
    "#### Divisão Inteira Incrementada (//=):\n",
    "x //= y é o mesmo que x = x // y.\n",
    "#### Módulo Incrementado (%=):\n",
    "x %= y é o mesmo que x = x % y.\n",
    "#### -------------------------------------------------------------------------------------------\n",
    "# Python oferece alguns diferenciais em relação a C/C++:\n",
    "#### -------------------------------------------------------------------------------------------\n",
    "## Tipagem dinâmica:\n",
    "Em Python, não é necessário especificar o tipo de variável ao realizar operações aritméticas. Isso difere do C/C++, onde a tipagem é estática e as variáveis têm tipos fixos.\n",
    "#### Divisão como ponto flutuante padrão:\n",
    "Em Python 3, o operador de divisão (/) sempre retorna um resultado de ponto flutuante, enquanto em C/C++, o tipo do resultado depende dos tipos dos operandos.\n",
    "#### Conversão automática de tipos:\n",
    "Em Python, há mais flexibilidade na operação entre diferentes tipos de variáveis, enquanto em C/C++ pode ser necessário fazer conversões explícitas.\n",
    "#### Operador de exponenciação **\n",
    "Python possui um operador específico para exponenciação, enquanto em C/C++, normalmente é usado pow() ou funções semelhantes para calcular potências\n",
    "No geral, embora os operadores aritméticos em Python sigam princípios. semelhantes aos de C/C++, as diferenças fundamentais em tipagem, tratamento de tipos e algumas operações específicas tornam Python mais flexível em certos aspectos.\n",
    "\n",
    "\n",
    "\n",
    "\n",
    "\n",
    "\n"
   ]
  },
  {
   "cell_type": "markdown",
   "metadata": {},
   "source": []
  }
 ],
 "metadata": {
  "kernelspec": {
   "display_name": "Python 3",
   "language": "python",
   "name": "python3"
  },
  "language_info": {
   "codemirror_mode": {
    "name": "ipython",
    "version": 3
   },
   "file_extension": ".py",
   "mimetype": "text/x-python",
   "name": "python",
   "nbconvert_exporter": "python",
   "pygments_lexer": "ipython3",
   "version": "3.11.4"
  }
 },
 "nbformat": 4,
 "nbformat_minor": 2
}
