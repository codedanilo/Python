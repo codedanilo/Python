{
 "cells": [
  {
   "cell_type": "markdown",
   "metadata": {},
   "source": [
    "#### Exercício 1: Crie um repositório para as atividades deste módulo\n",
    "● A sua equipe deve criar um repositório no GitHub que será utilizado para todas as atividades deste módulo. O repositório deve conter:\n",
    "○ Um README descrevendo as informações dos membros da equipe (nome e e-mail) assim como a descrição da estruturação do repositório ( que tem em cada pasta). Este README deve ser feito\n",
    "utilizando Markdown e ser atualizado a cada semana.\n",
    "○ Uma pasta para cada Instrução prática. As pastas serão criadas na medida que as Instruções Práticas sejam passadas.\n",
    "○ O professor deve ser incluído como colaborador no repositório (usuário GitHub - etvorellana) \n",
    "○ A pasta desta Instrução Prática deve conter um Jupyter Notebook com as respostas de cada um dos exercícios.\n",
    "○ Cada membro da equipe deve ter uma pasta no repositório. Se recomenda também a utilização de um branch para cada desenvolvedor, independentemente de serem definidos branch para atividades específicas.\n",
    "● Publicar no moodle o endereço do repositório e o branch específico em que\n",
    "está desenvolvendo suas atividades.   \n",
    "Prática da questão 1: https://github.com/codedanilo/Python/tree/main/PP-P001\n"
   ]
  },
  {
   "cell_type": "markdown",
   "metadata": {},
   "source": [
    "#### Exercício 2\n",
    "#### ----------------------------------------------------------------------------------------\n",
    "# Operadores Aritméticos em Python:\n",
    "#### ----------------------------------------------------------------------------------------\n",
    "\n",
    "#### Adição (+): \n",
    "Em Python, o operador '+' é usado para adição de números, mas também para concatenar strings e sequências.\n",
    "#### Subtração (-):\n",
    "Realiza a subtração entre dois números.\n",
    "#### Multiplicação (*):\n",
    "Realiza a multiplicação de números ou a repetição de strings ou sequências.\n",
    "#### Divisão (/):\n",
    "A divisão em Python (/) sempre retorna um número de ponto flutuante, mesmo que a divisão seja entre inteiros.\n",
    "#### Divisão Inteira (//):\n",
    "Retorna a parte inteira do resultado da divisão, descartando a parte fracionária.\n",
    "#### Módulo (%):\n",
    "Retorna o resto da divisão entre dois números.\n",
    "### Exponenciação ( ou pow())**:\n",
    "Realiza a exponenciação de um número pelo outro.\n",
    "#### -----------------------------------------------------------------------------------------\n",
    "# Operadores Aritméticos Compostos em Python:\n",
    "#### -----------------------------------------------------------------------------------------\n",
    "#### Adição Incrementada (+=):\n",
    "x += y é o mesmo que x = x + y.\n",
    "#### Subtração Incrementada (-=):\n",
    "x -= y é o mesmo que x = x - y.\n",
    "#### Multiplicação Incrementada (*=):\n",
    "x *= y é o mesmo que x = x * y.\n",
    "#### Divisão Incrementada (/=):\n",
    "x /= y é o mesmo que x = x / y.\n",
    "#### Divisão Inteira Incrementada (//=):\n",
    "x //= y é o mesmo que x = x // y.\n",
    "#### Módulo Incrementado (%=):\n",
    "x %= y é o mesmo que x = x % y.\n",
    "#### -------------------------------------------------------------------------------------------\n",
    "# Python oferece alguns diferenciais em relação a C/C++:\n",
    "#### -------------------------------------------------------------------------------------------\n",
    "## Tipagem dinâmica:\n",
    "Em Python, não é necessário especificar o tipo de variável ao realizar operações aritméticas. Isso difere do C/C++, onde a tipagem é estática e as variáveis têm tipos fixos.\n",
    "#### Divisão como ponto flutuante padrão:\n",
    "Em Python 3, o operador de divisão (/) sempre retorna um resultado de ponto flutuante, enquanto em C/C++, o tipo do resultado depende dos tipos dos operandos.\n",
    "#### Conversão automática de tipos:\n",
    "Em Python, há mais flexibilidade na operação entre diferentes tipos de variáveis, enquanto em C/C++ pode ser necessário fazer conversões explícitas.\n",
    "#### Operador de exponenciação **\n",
    "Python possui um operador específico para exponenciação, enquanto em C/C++, normalmente é usado pow() ou funções semelhantes para calcular potências\n",
    "No geral, embora os operadores aritméticos em Python sigam princípios. semelhantes aos de C/C++, as diferenças fundamentais em tipagem, tratamento de tipos e algumas operações específicas tornam Python mais flexível em certos aspectos.\n",
    "\n",
    "\n",
    "\n",
    "\n",
    "\n",
    "\n"
   ]
  },
  {
   "cell_type": "markdown",
   "metadata": {},
   "source": [
    "### Exercício 3: Manipulação de variáveis de tipo string e explorando o uso de print.\n",
    "Os caracteres numéricos aparecem na tabela ASCII, e em outras, numa sequência que começa pelo caractere ‘0’ até o caractere ‘9’. As strings em Python são formadas por conjuntos de caracteres que podem ser tratadas também como valores numéricos. Com base nestas afirmações desenvolva um programa em Python que:\n",
    "○ Imprima na tela, utilizando print, cada um dos caracteres numéricos e seu correspondente código numérico. Pesquise como modificar o comportamento do print para imprimir como caractere e como\n",
    "número.\n",
    "Exemplo:‘0’ - 48\n",
    "‘1’ - 49\n",
    "…\n",
    "‘9’ - 57"
   ]
  },
  {
   "cell_type": "code",
   "execution_count": 1,
   "metadata": {},
   "outputs": [
    {
     "name": "stdout",
     "output_type": "stream",
     "text": [
      "'0' - 48\n",
      "'1' - 49\n",
      "'2' - 50\n",
      "'3' - 51\n",
      "'4' - 52\n",
      "'5' - 53\n",
      "'6' - 54\n",
      "'7' - 55\n",
      "'8' - 56\n",
      "'9' - 57\n"
     ]
    }
   ],
   "source": [
    "for i in range(10):\n",
    "    caractere = chr(ord('0') + i)\n",
    "    codigo_ascii = ord(caractere)\n",
    "    print(f\"'{caractere}' - {codigo_ascii}\")\n"
   ]
  },
  {
   "cell_type": "markdown",
   "metadata": {},
   "source": [
    "* Modifique o  exercício anterior para que a saída imprima também o código numérico em octal e em hexadecimal."
   ]
  },
  {
   "cell_type": "code",
   "execution_count": 3,
   "metadata": {},
   "outputs": [
    {
     "name": "stdout",
     "output_type": "stream",
     "text": [
      "'0' - Decimal: 48, Octal: 0o60, Hexadecimal: 0x30\n",
      "'1' - Decimal: 49, Octal: 0o61, Hexadecimal: 0x31\n",
      "'2' - Decimal: 50, Octal: 0o62, Hexadecimal: 0x32\n",
      "'3' - Decimal: 51, Octal: 0o63, Hexadecimal: 0x33\n",
      "'4' - Decimal: 52, Octal: 0o64, Hexadecimal: 0x34\n",
      "'5' - Decimal: 53, Octal: 0o65, Hexadecimal: 0x35\n",
      "'6' - Decimal: 54, Octal: 0o66, Hexadecimal: 0x36\n",
      "'7' - Decimal: 55, Octal: 0o67, Hexadecimal: 0x37\n",
      "'8' - Decimal: 56, Octal: 0o70, Hexadecimal: 0x38\n",
      "'9' - Decimal: 57, Octal: 0o71, Hexadecimal: 0x39\n"
     ]
    }
   ],
   "source": [
    "for i in range(10):\n",
    "    caractere = chr(ord('0') + i)\n",
    "    codigo_ascii = ord(caractere)\n",
    "    codigo_octal = oct(codigo_ascii)\n",
    "    codigo_hexadecimal = hex(codigo_ascii)\n",
    "    print(f\"'{caractere}' - Decimal: {codigo_ascii}, Octal: {codigo_octal}, Hexadecimal: {codigo_hexadecimal}\")\n"
   ]
  },
  {
   "cell_type": "markdown",
   "metadata": {},
   "source": [
    "* Acrescente ao código do exercício anterior a possibilidade de ler um caractere qualquer e imprima no mesmo formato do inciso anterior.\n",
    "Pesquise como ler um valor da entrada padrão."
   ]
  },
  {
   "cell_type": "code",
   "execution_count": 4,
   "metadata": {},
   "outputs": [
    {
     "name": "stdout",
     "output_type": "stream",
     "text": [
      "'j' - Decimal: 106, Octal: 0o152, Hexadecimal: 0x6a\n"
     ]
    }
   ],
   "source": [
    "caractere = input(\"Digite um caractere: \")\n",
    "\n",
    "codigo_ascii = ord(caractere)\n",
    "\n",
    "codigo_octal = oct(codigo_ascii)\n",
    "codigo_hexadecimal = hex(codigo_ascii)\n",
    "\n",
    "print(f\"'{caractere}' - Decimal: {codigo_ascii}, Octal: {codigo_octal}, Hexadecimal: {codigo_hexadecimal}\")\n"
   ]
  },
  {
   "cell_type": "markdown",
   "metadata": {},
   "source": [
    "* Pesquise como trabalha Python os caracteres especiais, ‘ç’ e ‘ã’ por exemplo. Acrescente no código do exercício anterior um exemplo que demonstra como usar este recurso."
   ]
  },
  {
   "cell_type": "code",
   "execution_count": 5,
   "metadata": {},
   "outputs": [
    {
     "name": "stdout",
     "output_type": "stream",
     "text": [
      "'ç' - Unicode: 231, Octal: 0o347, Hexadecimal: 0xe7\n"
     ]
    }
   ],
   "source": [
    "caractere = input(\"Digite um caractere: \")\n",
    "\n",
    "codigo_unicode = ord(caractere)\n",
    "\n",
    "codigo_octal = oct(codigo_unicode)\n",
    "codigo_hexadecimal = hex(codigo_unicode)\n",
    "\n",
    "print(f\"'{caractere}' - Unicode: {codigo_unicode}, Octal: {codigo_octal}, Hexadecimal: {codigo_hexadecimal}\")\n"
   ]
  }
 ],
 "metadata": {
  "kernelspec": {
   "display_name": "Python 3",
   "language": "python",
   "name": "python3"
  },
  "language_info": {
   "codemirror_mode": {
    "name": "ipython",
    "version": 3
   },
   "file_extension": ".py",
   "mimetype": "text/x-python",
   "name": "python",
   "nbconvert_exporter": "python",
   "pygments_lexer": "ipython3",
   "version": "3.11.4"
  }
 },
 "nbformat": 4,
 "nbformat_minor": 2
}
